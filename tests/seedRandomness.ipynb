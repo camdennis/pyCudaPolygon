{
 "cells": [
  {
   "cell_type": "code",
   "execution_count": 1,
   "metadata": {},
   "outputs": [],
   "source": [
    "import sys, os\n",
    "sys.path.insert(0, os.path.abspath(\"../pyCudaPolygon\"))\n",
    "import pyCudaPolygon as pcp\n",
    "import numpy as np\n",
    "from matplotlib import pyplot as plt"
   ]
  },
  {
   "cell_type": "code",
   "execution_count": 2,
   "metadata": {},
   "outputs": [
    {
     "name": "stderr",
     "output_type": "stream",
     "text": [
      "/home/rdennis/Documents/Code/pyCudaPolygon/pyCudaPolygon/pyCudaPolygon.py:360: RuntimeWarning: invalid value encountered in sqrt\n",
      "  scale = np.sqrt(targetAreas[i] / area)\n"
     ]
    }
   ],
   "source": [
    "numPolygons = 8\n",
    "n = 5\n",
    "m = pcp.model(size = n * numPolygons, seed = 1)\n",
    "m.setModelEnum(\"normal\")\n",
    "# Set all polygons to be equally coordinated\n",
    "m.setECPolygons(n)\n",
    "# Set random polygon vertices positions\n",
    "m.setRandomPolygons()\n",
    "#m.draw()\n",
    "#plt.show()\n",
    "# Make it so that all of the polygons have the same area\n",
    "m.setMonoArea()\n",
    "#m.draw()\n",
    "#plt.show()\n",
    "# Set a packing fraction\n",
    "# The volume is one, so phi is just the sum of the areas\n",
    "# \n",
    "phi = 1.1\n",
    "m.setPhi(0.2)\n",
    "#m.draw()\n",
    "#plt.show()"
   ]
  },
  {
   "cell_type": "code",
   "execution_count": 3,
   "metadata": {},
   "outputs": [
    {
     "data": {
      "text/plain": [
       "array([        nan,         nan,         nan,         nan, -0.11330742,\n",
       "       -0.08376204,         nan,         nan])"
      ]
     },
     "execution_count": 3,
     "metadata": {},
     "output_type": "execute_result"
    }
   ],
   "source": [
    "m.updateAreas()\n",
    "m.getAreas()"
   ]
  },
  {
   "cell_type": "code",
   "execution_count": 4,
   "metadata": {},
   "outputs": [
    {
     "data": {
      "text/plain": [
       "array([        nan,         nan,         nan,         nan, -0.11330742,\n",
       "       -0.08376204,         nan,         nan])"
      ]
     },
     "execution_count": 4,
     "metadata": {},
     "output_type": "execute_result"
    }
   ],
   "source": [
    "m.getAreas()"
   ]
  },
  {
   "cell_type": "markdown",
   "metadata": {},
   "source": []
  }
 ],
 "metadata": {
  "kernelspec": {
   "display_name": "Python 3 (current)",
   "language": "python",
   "name": "python3_current"
  },
  "language_info": {
   "codemirror_mode": {
    "name": "ipython",
    "version": 3
   },
   "file_extension": ".py",
   "mimetype": "text/x-python",
   "name": "python",
   "nbconvert_exporter": "python",
   "pygments_lexer": "ipython3",
   "version": "3.8.16"
  }
 },
 "nbformat": 4,
 "nbformat_minor": 4
}
