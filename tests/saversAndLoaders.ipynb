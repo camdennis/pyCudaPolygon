{
 "cells": [
  {
   "cell_type": "code",
   "execution_count": 1,
   "metadata": {},
   "outputs": [],
   "source": [
    "import sys, os\n",
    "sys.path.insert(0, os.path.abspath(\"../pyCudaPolygon\"))\n",
    "import pyCudaPolygon as pcp\n",
    "import numpy as np\n",
    "from matplotlib import pyplot as plt"
   ]
  },
  {
   "cell_type": "code",
   "execution_count": 2,
   "metadata": {},
   "outputs": [
    {
     "ename": "AttributeError",
     "evalue": "'model' object has no attribute 'generatePolygons'",
     "output_type": "error",
     "traceback": [
      "\u001b[0;31m---------------------------------------------------------------------------\u001b[0m",
      "\u001b[0;31mAttributeError\u001b[0m                            Traceback (most recent call last)",
      "Cell \u001b[0;32mIn [2], line 7\u001b[0m\n\u001b[1;32m      5\u001b[0m nArray \u001b[38;5;241m=\u001b[39m np\u001b[38;5;241m.\u001b[39mones(n) \u001b[38;5;241m*\u001b[39m edges\n\u001b[1;32m      6\u001b[0m areaArray \u001b[38;5;241m=\u001b[39m np\u001b[38;5;241m.\u001b[39mones(n) \u001b[38;5;241m*\u001b[39m \u001b[38;5;241m0.05\u001b[39m\n\u001b[0;32m----> 7\u001b[0m \u001b[43mm\u001b[49m\u001b[38;5;241;43m.\u001b[39;49m\u001b[43mgeneratePolygons\u001b[49m(nArray, areaArray)\n\u001b[1;32m      8\u001b[0m m\u001b[38;5;241m.\u001b[39msetPositions((m\u001b[38;5;241m.\u001b[39mgetPositions() \u001b[38;5;241m+\u001b[39m \u001b[38;5;241m1\u001b[39m) \u001b[38;5;241m%\u001b[39m \u001b[38;5;241m1\u001b[39m)\n\u001b[1;32m      9\u001b[0m m\u001b[38;5;241m.\u001b[39mupdateAreas()\n",
      "\u001b[0;31mAttributeError\u001b[0m: 'model' object has no attribute 'generatePolygons'"
     ]
    }
   ],
   "source": [
    "n = 20\n",
    "edges = 5\n",
    "m = pcp.model(size = n * edges, seed = 1)\n",
    "m.setModelEnum(\"normal\")\n",
    "nArray = np.ones(n) * edges\n",
    "areaArray = np.ones(n) * 0.05\n",
    "m.generatePolygons(nArray, areaArray)\n",
    "m.setPositions((m.getPositions() + 1) % 1)\n",
    "m.updateAreas()\n",
    "m.setMaxEdgeLength(0.2)\n",
    "m.initializeNeighborCells()\n",
    "m.updateNeighborCells()\n",
    "#m.updateNeighbors(0.0)\n",
    "#    print(m.getNeighbors())\n",
    "m.draw()\n",
    "plt.show()\n",
    "m.saveModel(\"testSaver2\", overwrite = True)\n",
    "m.loadModel(\"testSaver2\")\n",
    "m.draw()"
   ]
  },
  {
   "cell_type": "code",
   "execution_count": null,
   "metadata": {},
   "outputs": [],
   "source": [
    "m.updateAreas()\n",
    "m.getAreas()"
   ]
  },
  {
   "cell_type": "code",
   "execution_count": null,
   "metadata": {},
   "outputs": [],
   "source": [
    "# Fix draw function"
   ]
  }
 ],
 "metadata": {
  "kernelspec": {
   "display_name": "Python 3 (current)",
   "language": "python",
   "name": "python3_current"
  },
  "language_info": {
   "codemirror_mode": {
    "name": "ipython",
    "version": 3
   },
   "file_extension": ".py",
   "mimetype": "text/x-python",
   "name": "python",
   "nbconvert_exporter": "python",
   "pygments_lexer": "ipython3",
   "version": "3.8.16"
  }
 },
 "nbformat": 4,
 "nbformat_minor": 4
}
